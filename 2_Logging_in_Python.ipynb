{
  "nbformat": 4,
  "nbformat_minor": 0,
  "metadata": {
    "colab": {
      "provenance": [],
      "authorship_tag": "ABX9TyMgL3lbLlyVFnqmF2SXfPad",
      "include_colab_link": true
    },
    "kernelspec": {
      "name": "python3",
      "display_name": "Python 3"
    },
    "language_info": {
      "name": "python"
    }
  },
  "cells": [
    {
      "cell_type": "markdown",
      "metadata": {
        "id": "view-in-github",
        "colab_type": "text"
      },
      "source": [
        "<a href=\"https://colab.research.google.com/github/nafis-neehal/tech-it-easy/blob/main/2_Logging_in_Python.ipynb\" target=\"_parent\"><img src=\"https://colab.research.google.com/assets/colab-badge.svg\" alt=\"Open In Colab\"/></a>"
      ]
    },
    {
      "cell_type": "markdown",
      "source": [
        "# Learn about Basic Logging\n",
        "Learn about different logging levels, and specially how to log in files.\n",
        "\n",
        "There are five log levels - Debug, Info, Warning, Error, Critical [in order of increasing level of severity].\n",
        "\n",
        "The default level is WARNING, which means that only events of this level and above will be tracked, unless the logging package is configured to do otherwise.\n",
        "\n",
        "Events that are tracked can be handled in different ways. The simplest way of handling tracked events is to print them to the console. Another common way is to write them to a disk file.\n",
        "\n",
        "We will learn about three basic things that we would always need and should cover most of our needs -\n",
        "\n",
        "1. Logging in file\n",
        "2. Formatting to save the logs\n",
        "3. Dynamically saving value of variables in log files"
      ],
      "metadata": {
        "id": "YYHLG6LnjNad"
      }
    },
    {
      "cell_type": "code",
      "execution_count": 1,
      "metadata": {
        "colab": {
          "base_uri": "https://localhost:8080/"
        },
        "id": "pJnlTDYvi-H3",
        "outputId": "5e5f4777-74ba-4d8d-ce7a-38947ff46236"
      },
      "outputs": [
        {
          "output_type": "stream",
          "name": "stderr",
          "text": [
            "WARNING:root:Watch out!!\n",
            "ERROR:root:I told you so\n",
            "CRITICAL:root:I told you so\n"
          ]
        }
      ],
      "source": [
        "import logging\n",
        "#this would trigger default logging\n",
        "logging.debug(\"I told you so\")\n",
        "logging.info(\"I told you so\")\n",
        "logging.warning(\"Watch out!!\")\n",
        "logging.error(\"I told you so\")\n",
        "logging.critical(\"I told you so\")"
      ]
    },
    {
      "cell_type": "markdown",
      "source": [
        "### Logging in file + Formatting"
      ],
      "metadata": {
        "id": "TPPd1HikvbQ3"
      }
    },
    {
      "cell_type": "markdown",
      "source": [
        "<font color=\"red\"> Note: you need to use the force=True option in your basicConfig(), to remove the root handlers -> otherwise it will not create a log file to log your inputs. </font>"
      ],
      "metadata": {
        "id": "DmvUL4fOuX5F"
      }
    },
    {
      "cell_type": "code",
      "source": [
        "import logging\n",
        "logger = logging.getLogger(__name__)\n",
        "logging.basicConfig(\n",
        "    filename='/content/example.log',\n",
        "    filemode='a',\n",
        "    format='%(asctime)s - %(name)s - %(levelname)s - %(message)s',\n",
        "    datefmt='%d-%b-%y %H:%M:%S',\n",
        "    encoding='utf-8',\n",
        "    level=logging.DEBUG,\n",
        "    force=True\n",
        ")\n",
        "logging.debug(\"I told you so\")\n",
        "logging.info(\"I told you so\")\n",
        "logging.warning(\"I told you so\")\n",
        "logging.error(\"I told you so\")\n",
        "logging.critical(\"I told you so\")"
      ],
      "metadata": {
        "id": "iHWj4VmGj5-C"
      },
      "execution_count": 2,
      "outputs": []
    },
    {
      "cell_type": "markdown",
      "source": [
        "### Logging with Variables"
      ],
      "metadata": {
        "id": "6BH1PnFLvg9p"
      }
    },
    {
      "cell_type": "code",
      "source": [
        "name = \"Tony Montana\"\n",
        "logging.info(f\"{name} killed all of them!!\")"
      ],
      "metadata": {
        "id": "eAGcw0i7vjCC"
      },
      "execution_count": 5,
      "outputs": []
    },
    {
      "cell_type": "markdown",
      "source": [
        "### Logged Outputs"
      ],
      "metadata": {
        "id": "0vN171_swlu6"
      }
    },
    {
      "cell_type": "code",
      "source": [
        "!cat example.log"
      ],
      "metadata": {
        "colab": {
          "base_uri": "https://localhost:8080/"
        },
        "id": "my6dIC6pwh77",
        "outputId": "63ecd64f-c4ca-4e79-f822-b7aa23208094"
      },
      "execution_count": 6,
      "outputs": [
        {
          "output_type": "stream",
          "name": "stdout",
          "text": [
            "03-Oct-24 00:25:29 - root - DEBUG - I told you so\n",
            "03-Oct-24 00:25:29 - root - INFO - I told you so\n",
            "03-Oct-24 00:25:29 - root - WARNING - I told you so\n",
            "03-Oct-24 00:25:29 - root - ERROR - I told you so\n",
            "03-Oct-24 00:25:29 - root - CRITICAL - I told you so\n",
            "03-Oct-24 00:25:37 - root - INFO - Tony Montana has logged in\n",
            "03-Oct-24 00:31:52 - root - INFO - Tony Montana killed all of them!!\n"
          ]
        }
      ]
    },
    {
      "cell_type": "markdown",
      "source": [
        "References:\n",
        "1. https://docs.python.org/3/howto/logging.html"
      ],
      "metadata": {
        "id": "pBu_X3vMxPRN"
      }
    }
  ]
}